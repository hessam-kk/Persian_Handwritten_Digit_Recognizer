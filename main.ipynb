{
 "cells": [
  {
   "attachments": {},
   "cell_type": "markdown",
   "metadata": {},
   "source": [
    "Import dataset for google colab"
   ]
  },
  {
   "cell_type": "code",
   "execution_count": null,
   "metadata": {},
   "outputs": [],
   "source": [
    "## Run these cells at the first time of running project\n",
    "from google.colab import drive\n",
    "drive.mount('/gdrive')\n",
    "%cd /gdrive"
   ]
  },
  {
   "cell_type": "code",
   "execution_count": null,
   "metadata": {},
   "outputs": [],
   "source": [
    "# use this cell when you upload the dataset in your colab\n",
    "!unzip -q \"/content/dataset.zip\" -d \"/content/\"\n"
   ]
  },
  {
   "cell_type": "code",
   "execution_count": null,
   "metadata": {},
   "outputs": [],
   "source": [
    "## use this cell whean you connect your drive and load dataset from drive\n",
    "from google.colab import drive\n",
    "drive.mount('/content/drive')\n",
    "!unzip -q \"/content/drive/MyDrive/Colab Notebooks/dataset.zip\" -d \"/content/drive/MyDrive/dataset/\"\n"
   ]
  },
  {
   "attachments": {},
   "cell_type": "markdown",
   "metadata": {},
   "source": [
    "Config dataset addresses\n"
   ]
  },
  {
   "cell_type": "code",
   "execution_count": null,
   "metadata": {},
   "outputs": [],
   "source": [
    "img_train = \"/content/drive/MyDrive/dataset/csvTrainImages 60k x 784.csv\"\n",
    "label_train = \"/content/drive/MyDrive/dataset/csvTrainLabel 60k x 1.csv\"\n",
    "img_test = \"/content/drive/MyDrive/dataset/csvTestImages 10k x 784.csv\"\n",
    "label_test = \"/content/drive/MyDrive/dataset/csvTestLabel 10k x 1.csv\""
   ]
  },
  {
   "attachments": {},
   "cell_type": "markdown",
   "metadata": {},
   "source": [
    "Load Dataset"
   ]
  },
  {
   "cell_type": "code",
   "execution_count": null,
   "metadata": {},
   "outputs": [],
   "source": [
    "import numpy as np\n",
    "\n",
    "images_train = np.loadtxt(open(img_train), delimiter=',')\n",
    "label_train = np.loadtxt(open(label_train), delimiter=',')\n",
    "images_test = np.loadtxt(open(img_test), delimiter=',')\n",
    "label_test = np.loadtxt(open(label_test), delimiter=',')\n",
    "\n",
    "# train images count is 60K (60K train image and 60K their labels)\n",
    "print(\"Size of data loaded for train images is: {}\".format(images_train.shape))\n",
    "print(\"Size of data loaded for train labels is: {}\".format(label_train.shape))\n",
    "# test image count is 10K (10K test image and 10K their labels)\n",
    "print(\"Size of data loaded for test images is: {}\".format(images_test.shape))\n",
    "print(\"Size of data loaded for test labels is: {}\".format(label_test.shape))\n"
   ]
  }
 ],
 "metadata": {
  "language_info": {
   "name": "python"
  },
  "orig_nbformat": 4
 },
 "nbformat": 4,
 "nbformat_minor": 2
}
